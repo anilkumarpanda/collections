{
  "nbformat": 4,
  "nbformat_minor": 0,
  "metadata": {
    "colab": {
      "name": "Copy of dscc-2019-workshop-fairness.ipynb",
      "provenance": [],
      "collapsed_sections": [
        "boDfdhO9DVzh",
        "jGDhM09vG-rl",
        "nzaXV1BqHFSR",
        "NWvB-WQWI-0v"
      ],
      "machine_shape": "hm",
      "include_colab_link": true
    },
    "kernelspec": {
      "name": "python3",
      "display_name": "Python 3"
    }
  },
  "cells": [
    {
      "cell_type": "markdown",
      "metadata": {
        "id": "view-in-github",
        "colab_type": "text"
      },
      "source": [
        "<a href=\"https://colab.research.google.com/github/anilkumarpanda/collections/blob/master/Workshop_fairness.ipynb\" target=\"_parent\"><img src=\"https://colab.research.google.com/assets/colab-badge.svg\" alt=\"Open In Colab\"/></a>"
      ]
    },
    {
      "cell_type": "markdown",
      "metadata": {
        "id": "kQPKE6q4TlM3",
        "colab_type": "text"
      },
      "source": [
        "# DSCC 2019 Workshop - Fairness in Machine Learning and Data Science\n",
        "**Authors**:\n",
        "- Nguyen Tran: Nguyen.Tran@ing.com\n",
        "- Eva van Weel: Eva.van.Weel@ing.com\n",
        "\n",
        "This notebook provides an introduction to a preprocessing technique, [Reweighing](https://core.ac.uk/download/pdf/81728147.pdf), and an inprocessing technique, [Adversarial Debiasing](https://arxiv.org/pdf/1801.07593.pdf), to mitigate unwanted bias when training a machine learning model. The primary tool used during this workshop is [AI Fairness 360](https://github.com/IBM/AIF360), a Python package containing a wide range of algorithms to combat biases in data science workflows."
      ]
    },
    {
      "cell_type": "markdown",
      "metadata": {
        "id": "eLPCm4SzzSeJ",
        "colab_type": "text"
      },
      "source": [
        "## AI Fairness 360 (AIF360) resources\n",
        "- API documentation: https://aif360.readthedocs.io/en/latest/\n",
        "- Github: https://github.com/IBM/AIF360\n",
        "- Online interactive dashboard: http://aif360.mybluemix.net/data\n",
        "- Paper: https://arxiv.org/pdf/1810.01943.pdf"
      ]
    },
    {
      "cell_type": "markdown",
      "metadata": {
        "id": "zPg69WiiQa7M",
        "colab_type": "text"
      },
      "source": [
        "## Import the AIF360 package"
      ]
    },
    {
      "cell_type": "code",
      "metadata": {
        "id": "_ayFaNrQYvDo",
        "colab_type": "code",
        "colab": {}
      },
      "source": [
        "!git clone https://github.com/IBM/AIF360.git &>/dev/null\n",
        "!pip install AIF360/ -r AIF360/requirements.txt &>/dev/null\n",
        "\n",
        "import sys\n",
        "sys.path.insert(1, \"AIF360/\")"
      ],
      "execution_count": 0,
      "outputs": []
    },
    {
      "cell_type": "code",
      "metadata": {
        "id": "c5O5wcAkQ_E6",
        "colab_type": "code",
        "colab": {}
      },
      "source": [
        "# Import the necessary components\n",
        "from aif360.datasets.standard_dataset import StandardDataset\n",
        "from aif360.metrics import BinaryLabelDatasetMetric, ClassificationMetric\n",
        "from aif360.explainers.metric_text_explainer import MetricTextExplainer\n",
        "\n",
        "# Reweighing\n",
        "from aif360.algorithms.preprocessing import Reweighing\n",
        "\n",
        "# Adversarial Debiasing\n",
        "from aif360.algorithms.inprocessing import AdversarialDebiasing"
      ],
      "execution_count": 0,
      "outputs": []
    },
    {
      "cell_type": "markdown",
      "metadata": {
        "id": "zWPznAzUQk_W",
        "colab_type": "text"
      },
      "source": [
        "## Download the dataset\n",
        "\n",
        "We will be looking at the adult income dataset, where the task is to predict whether somebody has high or low income, given a wide range of demographic features.\n",
        "\n",
        "Dataset reference: https://archive.ics.uci.edu/ml/datasets/adult"
      ]
    },
    {
      "cell_type": "code",
      "metadata": {
        "id": "swDHQlgLYv7T",
        "colab_type": "code",
        "colab": {}
      },
      "source": [
        "# Get the adult income dataset\n",
        "!wget -P AIF360/aif360/data/raw/adult/ https://archive.ics.uci.edu/ml/machine-learning-databases/adult/adult.data &>/dev/null\n",
        "!wget -P AIF360/aif360/data/raw/adult/ https://archive.ics.uci.edu/ml/machine-learning-databases/adult/adult.test &>/dev/null\n",
        "!wget -P AIF360/aif360/data/raw/adult/ https://archive.ics.uci.edu/ml/machine-learning-databases/adult/adult.names &>/dev/null"
      ],
      "execution_count": 0,
      "outputs": []
    },
    {
      "cell_type": "markdown",
      "metadata": {
        "id": "moN3b2LxRXca",
        "colab_type": "text"
      },
      "source": [
        "## Standard imports"
      ]
    },
    {
      "cell_type": "code",
      "metadata": {
        "id": "7YqRbhxXG8KI",
        "colab_type": "code",
        "colab": {}
      },
      "source": [
        "import pandas as pd\n",
        "import numpy as np\n",
        "import matplotlib.pyplot as plt\n",
        "import tensorflow as tf\n",
        "from sklearn.linear_model import LogisticRegression\n",
        "from sklearn.model_selection import train_test_split\n",
        "from sklearn.metrics import balanced_accuracy_score\n",
        "from sklearn.preprocessing import MaxAbsScaler"
      ],
      "execution_count": 0,
      "outputs": []
    },
    {
      "cell_type": "code",
      "metadata": {
        "id": "8uF4oit9RfQ4",
        "colab_type": "code",
        "colab": {}
      },
      "source": [
        "import warnings\n",
        "warnings.filterwarnings('ignore')"
      ],
      "execution_count": 0,
      "outputs": []
    },
    {
      "cell_type": "markdown",
      "metadata": {
        "id": "gkEO3WhMhq53",
        "colab_type": "text"
      },
      "source": [
        "## Read the income dataset"
      ]
    },
    {
      "cell_type": "code",
      "metadata": {
        "id": "huE9IqRLHGgn",
        "colab_type": "code",
        "colab": {}
      },
      "source": [
        "column_names = ['age', 'workclass', 'fnlwgt', 'education',\n",
        "      'education-num', 'marital-status', 'occupation', 'relationship',\n",
        "      'race', 'gender', 'capital-gain', 'capital-loss', 'hours-per-week',\n",
        "      'native-country', 'income-per-year']\n",
        "\n",
        "df_orig = pd.read_csv(\"AIF360/aif360/data/raw/adult/adult.data\", \n",
        "                   header=None, names=column_names,\n",
        "                   skipinitialspace=True, na_values=['?'])\n",
        "df_orig['high-income'] = df_orig['income-per-year'].replace({'<=50K': 0, '>50K': 1})\n",
        "df_orig = df_orig.drop([\"fnlwgt\", \"education-num\", 'income-per-year'], axis=1)"
      ],
      "execution_count": 0,
      "outputs": []
    },
    {
      "cell_type": "code",
      "metadata": {
        "id": "hdwnL6Hr-4LC",
        "colab_type": "code",
        "colab": {
          "base_uri": "https://localhost:8080/",
          "height": 289
        },
        "outputId": "c8c5cc13-a734-4400-fc94-1a07f31a1db1"
      },
      "source": [
        "df_orig.head()"
      ],
      "execution_count": 7,
      "outputs": [
        {
          "output_type": "execute_result",
          "data": {
            "text/html": [
              "<div>\n",
              "<style scoped>\n",
              "    .dataframe tbody tr th:only-of-type {\n",
              "        vertical-align: middle;\n",
              "    }\n",
              "\n",
              "    .dataframe tbody tr th {\n",
              "        vertical-align: top;\n",
              "    }\n",
              "\n",
              "    .dataframe thead th {\n",
              "        text-align: right;\n",
              "    }\n",
              "</style>\n",
              "<table border=\"1\" class=\"dataframe\">\n",
              "  <thead>\n",
              "    <tr style=\"text-align: right;\">\n",
              "      <th></th>\n",
              "      <th>age</th>\n",
              "      <th>workclass</th>\n",
              "      <th>education</th>\n",
              "      <th>marital-status</th>\n",
              "      <th>occupation</th>\n",
              "      <th>relationship</th>\n",
              "      <th>race</th>\n",
              "      <th>gender</th>\n",
              "      <th>capital-gain</th>\n",
              "      <th>capital-loss</th>\n",
              "      <th>hours-per-week</th>\n",
              "      <th>native-country</th>\n",
              "      <th>high-income</th>\n",
              "    </tr>\n",
              "  </thead>\n",
              "  <tbody>\n",
              "    <tr>\n",
              "      <th>0</th>\n",
              "      <td>39</td>\n",
              "      <td>State-gov</td>\n",
              "      <td>Bachelors</td>\n",
              "      <td>Never-married</td>\n",
              "      <td>Adm-clerical</td>\n",
              "      <td>Not-in-family</td>\n",
              "      <td>White</td>\n",
              "      <td>Male</td>\n",
              "      <td>2174</td>\n",
              "      <td>0</td>\n",
              "      <td>40</td>\n",
              "      <td>United-States</td>\n",
              "      <td>0</td>\n",
              "    </tr>\n",
              "    <tr>\n",
              "      <th>1</th>\n",
              "      <td>50</td>\n",
              "      <td>Self-emp-not-inc</td>\n",
              "      <td>Bachelors</td>\n",
              "      <td>Married-civ-spouse</td>\n",
              "      <td>Exec-managerial</td>\n",
              "      <td>Husband</td>\n",
              "      <td>White</td>\n",
              "      <td>Male</td>\n",
              "      <td>0</td>\n",
              "      <td>0</td>\n",
              "      <td>13</td>\n",
              "      <td>United-States</td>\n",
              "      <td>0</td>\n",
              "    </tr>\n",
              "    <tr>\n",
              "      <th>2</th>\n",
              "      <td>38</td>\n",
              "      <td>Private</td>\n",
              "      <td>HS-grad</td>\n",
              "      <td>Divorced</td>\n",
              "      <td>Handlers-cleaners</td>\n",
              "      <td>Not-in-family</td>\n",
              "      <td>White</td>\n",
              "      <td>Male</td>\n",
              "      <td>0</td>\n",
              "      <td>0</td>\n",
              "      <td>40</td>\n",
              "      <td>United-States</td>\n",
              "      <td>0</td>\n",
              "    </tr>\n",
              "    <tr>\n",
              "      <th>3</th>\n",
              "      <td>53</td>\n",
              "      <td>Private</td>\n",
              "      <td>11th</td>\n",
              "      <td>Married-civ-spouse</td>\n",
              "      <td>Handlers-cleaners</td>\n",
              "      <td>Husband</td>\n",
              "      <td>Black</td>\n",
              "      <td>Male</td>\n",
              "      <td>0</td>\n",
              "      <td>0</td>\n",
              "      <td>40</td>\n",
              "      <td>United-States</td>\n",
              "      <td>0</td>\n",
              "    </tr>\n",
              "    <tr>\n",
              "      <th>4</th>\n",
              "      <td>28</td>\n",
              "      <td>Private</td>\n",
              "      <td>Bachelors</td>\n",
              "      <td>Married-civ-spouse</td>\n",
              "      <td>Prof-specialty</td>\n",
              "      <td>Wife</td>\n",
              "      <td>Black</td>\n",
              "      <td>Female</td>\n",
              "      <td>0</td>\n",
              "      <td>0</td>\n",
              "      <td>40</td>\n",
              "      <td>Cuba</td>\n",
              "      <td>0</td>\n",
              "    </tr>\n",
              "  </tbody>\n",
              "</table>\n",
              "</div>"
            ],
            "text/plain": [
              "   age         workclass  education  ... hours-per-week native-country high-income\n",
              "0   39         State-gov  Bachelors  ...             40  United-States           0\n",
              "1   50  Self-emp-not-inc  Bachelors  ...             13  United-States           0\n",
              "2   38           Private    HS-grad  ...             40  United-States           0\n",
              "3   53           Private       11th  ...             40  United-States           0\n",
              "4   28           Private  Bachelors  ...             40           Cuba           0\n",
              "\n",
              "[5 rows x 13 columns]"
            ]
          },
          "metadata": {
            "tags": []
          },
          "execution_count": 7
        }
      ]
    },
    {
      "cell_type": "code",
      "metadata": {
        "id": "MzvU8B_lHIWz",
        "colab_type": "code",
        "colab": {
          "base_uri": "https://localhost:8080/",
          "height": 272
        },
        "outputId": "9d8986ce-266b-4952-86df-1f8c9e7a5161"
      },
      "source": [
        "print(f\"Number of rows: {len(df_orig)}\")\n",
        "print(\"Number of unique values of each column:\")\n",
        "for col in df_orig.columns:\n",
        "  print(f\" + {col}: {df_orig[col].nunique()}\")"
      ],
      "execution_count": 8,
      "outputs": [
        {
          "output_type": "stream",
          "text": [
            "Number of rows: 32561\n",
            "Number of unique values of each column:\n",
            " + age: 73\n",
            " + workclass: 8\n",
            " + education: 16\n",
            " + marital-status: 7\n",
            " + occupation: 14\n",
            " + relationship: 6\n",
            " + race: 5\n",
            " + gender: 2\n",
            " + capital-gain: 119\n",
            " + capital-loss: 92\n",
            " + hours-per-week: 94\n",
            " + native-country: 41\n",
            " + high-income: 2\n"
          ],
          "name": "stdout"
        }
      ]
    },
    {
      "cell_type": "code",
      "metadata": {
        "id": "qu9eyVGFPrZV",
        "colab_type": "code",
        "colab": {}
      },
      "source": [
        "numerical_columns = ['age', 'capital-gain', 'capital-loss', 'hours-per-week']\n",
        "categorical_columns = ['workclass', 'education', 'marital-status', 'occupation',\n",
        "       'relationship', 'gender', 'race', 'native-country']"
      ],
      "execution_count": 0,
      "outputs": []
    },
    {
      "cell_type": "markdown",
      "metadata": {
        "id": "KOA1nABkOuo5",
        "colab_type": "text"
      },
      "source": [
        "## Scale down numerical features\n",
        "\n",
        "Transform the `age`, `capital-gain`, `capital-loss` and `hours-per-week` features by scaling them down by their max values."
      ]
    },
    {
      "cell_type": "code",
      "metadata": {
        "id": "Gq5gGS_5Swdp",
        "colab_type": "code",
        "colab": {}
      },
      "source": [
        "df_scaled = df_orig.copy()"
      ],
      "execution_count": 0,
      "outputs": []
    },
    {
      "cell_type": "code",
      "metadata": {
        "id": "hhGxCxBnPWzl",
        "colab_type": "code",
        "colab": {}
      },
      "source": [
        "min_max_scaler = MaxAbsScaler()\n",
        "\n",
        "for c in numerical_columns:\n",
        "  df_scaled[c] = min_max_scaler.fit_transform(df_scaled[[c]])"
      ],
      "execution_count": 0,
      "outputs": []
    },
    {
      "cell_type": "code",
      "metadata": {
        "id": "ntEd5zmsictp",
        "colab_type": "code",
        "colab": {
          "base_uri": "https://localhost:8080/",
          "height": 289
        },
        "outputId": "bdab4a93-7473-4118-d00d-bf0f32891a85"
      },
      "source": [
        "df_scaled.head()"
      ],
      "execution_count": 12,
      "outputs": [
        {
          "output_type": "execute_result",
          "data": {
            "text/html": [
              "<div>\n",
              "<style scoped>\n",
              "    .dataframe tbody tr th:only-of-type {\n",
              "        vertical-align: middle;\n",
              "    }\n",
              "\n",
              "    .dataframe tbody tr th {\n",
              "        vertical-align: top;\n",
              "    }\n",
              "\n",
              "    .dataframe thead th {\n",
              "        text-align: right;\n",
              "    }\n",
              "</style>\n",
              "<table border=\"1\" class=\"dataframe\">\n",
              "  <thead>\n",
              "    <tr style=\"text-align: right;\">\n",
              "      <th></th>\n",
              "      <th>age</th>\n",
              "      <th>workclass</th>\n",
              "      <th>education</th>\n",
              "      <th>marital-status</th>\n",
              "      <th>occupation</th>\n",
              "      <th>relationship</th>\n",
              "      <th>race</th>\n",
              "      <th>gender</th>\n",
              "      <th>capital-gain</th>\n",
              "      <th>capital-loss</th>\n",
              "      <th>hours-per-week</th>\n",
              "      <th>native-country</th>\n",
              "      <th>high-income</th>\n",
              "    </tr>\n",
              "  </thead>\n",
              "  <tbody>\n",
              "    <tr>\n",
              "      <th>0</th>\n",
              "      <td>0.433333</td>\n",
              "      <td>State-gov</td>\n",
              "      <td>Bachelors</td>\n",
              "      <td>Never-married</td>\n",
              "      <td>Adm-clerical</td>\n",
              "      <td>Not-in-family</td>\n",
              "      <td>White</td>\n",
              "      <td>Male</td>\n",
              "      <td>0.02174</td>\n",
              "      <td>0.0</td>\n",
              "      <td>0.404040</td>\n",
              "      <td>United-States</td>\n",
              "      <td>0</td>\n",
              "    </tr>\n",
              "    <tr>\n",
              "      <th>1</th>\n",
              "      <td>0.555556</td>\n",
              "      <td>Self-emp-not-inc</td>\n",
              "      <td>Bachelors</td>\n",
              "      <td>Married-civ-spouse</td>\n",
              "      <td>Exec-managerial</td>\n",
              "      <td>Husband</td>\n",
              "      <td>White</td>\n",
              "      <td>Male</td>\n",
              "      <td>0.00000</td>\n",
              "      <td>0.0</td>\n",
              "      <td>0.131313</td>\n",
              "      <td>United-States</td>\n",
              "      <td>0</td>\n",
              "    </tr>\n",
              "    <tr>\n",
              "      <th>2</th>\n",
              "      <td>0.422222</td>\n",
              "      <td>Private</td>\n",
              "      <td>HS-grad</td>\n",
              "      <td>Divorced</td>\n",
              "      <td>Handlers-cleaners</td>\n",
              "      <td>Not-in-family</td>\n",
              "      <td>White</td>\n",
              "      <td>Male</td>\n",
              "      <td>0.00000</td>\n",
              "      <td>0.0</td>\n",
              "      <td>0.404040</td>\n",
              "      <td>United-States</td>\n",
              "      <td>0</td>\n",
              "    </tr>\n",
              "    <tr>\n",
              "      <th>3</th>\n",
              "      <td>0.588889</td>\n",
              "      <td>Private</td>\n",
              "      <td>11th</td>\n",
              "      <td>Married-civ-spouse</td>\n",
              "      <td>Handlers-cleaners</td>\n",
              "      <td>Husband</td>\n",
              "      <td>Black</td>\n",
              "      <td>Male</td>\n",
              "      <td>0.00000</td>\n",
              "      <td>0.0</td>\n",
              "      <td>0.404040</td>\n",
              "      <td>United-States</td>\n",
              "      <td>0</td>\n",
              "    </tr>\n",
              "    <tr>\n",
              "      <th>4</th>\n",
              "      <td>0.311111</td>\n",
              "      <td>Private</td>\n",
              "      <td>Bachelors</td>\n",
              "      <td>Married-civ-spouse</td>\n",
              "      <td>Prof-specialty</td>\n",
              "      <td>Wife</td>\n",
              "      <td>Black</td>\n",
              "      <td>Female</td>\n",
              "      <td>0.00000</td>\n",
              "      <td>0.0</td>\n",
              "      <td>0.404040</td>\n",
              "      <td>Cuba</td>\n",
              "      <td>0</td>\n",
              "    </tr>\n",
              "  </tbody>\n",
              "</table>\n",
              "</div>"
            ],
            "text/plain": [
              "        age         workclass  ... native-country high-income\n",
              "0  0.433333         State-gov  ...  United-States           0\n",
              "1  0.555556  Self-emp-not-inc  ...  United-States           0\n",
              "2  0.422222           Private  ...  United-States           0\n",
              "3  0.588889           Private  ...  United-States           0\n",
              "4  0.311111           Private  ...           Cuba           0\n",
              "\n",
              "[5 rows x 13 columns]"
            ]
          },
          "metadata": {
            "tags": []
          },
          "execution_count": 12
        }
      ]
    },
    {
      "cell_type": "markdown",
      "metadata": {
        "id": "6Dt0jklPifm1",
        "colab_type": "text"
      },
      "source": [
        "## Define parameters to setup AIF360"
      ]
    },
    {
      "cell_type": "markdown",
      "metadata": {
        "id": "pDnUgmqHivMV",
        "colab_type": "text"
      },
      "source": [
        "AIF360's dataset API requires a number of pre-defined arguments, such as the name of the label column, and the value of the favorable class.\n",
        "\n",
        "In this workshop, the label `high-income` has value of `1` if the income of an individual is higher than $50,000 annually, and `0` otherwise. Therefore, `1` is our favorable class."
      ]
    },
    {
      "cell_type": "code",
      "metadata": {
        "id": "R8PGQb7dThHN",
        "colab_type": "code",
        "colab": {}
      },
      "source": [
        "label_column='high-income'\n",
        "favorable_classes=[1]"
      ],
      "execution_count": 0,
      "outputs": []
    },
    {
      "cell_type": "markdown",
      "metadata": {
        "id": "WD8vP2fXjWVV",
        "colab_type": "text"
      },
      "source": [
        "## Specifying the privileged group\n",
        "\n",
        "---"
      ]
    },
    {
      "cell_type": "markdown",
      "metadata": {
        "id": "aZ74Hfdhjka8",
        "colab_type": "text"
      },
      "source": [
        "The code block in this section specifies `male` as the privileged `gender`."
      ]
    },
    {
      "cell_type": "code",
      "metadata": {
        "id": "FmrheulFTSWO",
        "colab_type": "code",
        "colab": {}
      },
      "source": [
        "# To specify another privileged group, replace `gender` with another feature column\n",
        "# and Replace `Male` with another privileged value\n",
        "protected_attribute_names= ['gender']  \n",
        "privileged_classes= [['Male']] "
      ],
      "execution_count": 0,
      "outputs": []
    },
    {
      "cell_type": "markdown",
      "metadata": {
        "colab_type": "text",
        "id": "nEi4oduDQjEN"
      },
      "source": [
        "Use the variable `df_orig` to perform any initial analyses you need in order to identify another privileged group for [Exercise 5](#scrollTo=p8HRa8LKCN-6&line=3&uniqifier=1)."
      ]
    },
    {
      "cell_type": "code",
      "metadata": {
        "colab_type": "code",
        "id": "h6WxdA70Qifm",
        "colab": {
          "base_uri": "https://localhost:8080/",
          "height": 272
        },
        "outputId": "3fe0d22d-f0d9-41ab-80d9-22e91054d46d"
      },
      "source": [
        "df_orig.sample(5)"
      ],
      "execution_count": 15,
      "outputs": [
        {
          "output_type": "execute_result",
          "data": {
            "text/html": [
              "<div>\n",
              "<style scoped>\n",
              "    .dataframe tbody tr th:only-of-type {\n",
              "        vertical-align: middle;\n",
              "    }\n",
              "\n",
              "    .dataframe tbody tr th {\n",
              "        vertical-align: top;\n",
              "    }\n",
              "\n",
              "    .dataframe thead th {\n",
              "        text-align: right;\n",
              "    }\n",
              "</style>\n",
              "<table border=\"1\" class=\"dataframe\">\n",
              "  <thead>\n",
              "    <tr style=\"text-align: right;\">\n",
              "      <th></th>\n",
              "      <th>age</th>\n",
              "      <th>workclass</th>\n",
              "      <th>education</th>\n",
              "      <th>marital-status</th>\n",
              "      <th>occupation</th>\n",
              "      <th>relationship</th>\n",
              "      <th>race</th>\n",
              "      <th>gender</th>\n",
              "      <th>capital-gain</th>\n",
              "      <th>capital-loss</th>\n",
              "      <th>hours-per-week</th>\n",
              "      <th>native-country</th>\n",
              "      <th>high-income</th>\n",
              "    </tr>\n",
              "  </thead>\n",
              "  <tbody>\n",
              "    <tr>\n",
              "      <th>2510</th>\n",
              "      <td>42</td>\n",
              "      <td>Private</td>\n",
              "      <td>HS-grad</td>\n",
              "      <td>Divorced</td>\n",
              "      <td>Protective-serv</td>\n",
              "      <td>Not-in-family</td>\n",
              "      <td>Black</td>\n",
              "      <td>Male</td>\n",
              "      <td>0</td>\n",
              "      <td>0</td>\n",
              "      <td>35</td>\n",
              "      <td>United-States</td>\n",
              "      <td>0</td>\n",
              "    </tr>\n",
              "    <tr>\n",
              "      <th>1005</th>\n",
              "      <td>58</td>\n",
              "      <td>Private</td>\n",
              "      <td>Bachelors</td>\n",
              "      <td>Married-civ-spouse</td>\n",
              "      <td>Adm-clerical</td>\n",
              "      <td>Husband</td>\n",
              "      <td>White</td>\n",
              "      <td>Male</td>\n",
              "      <td>0</td>\n",
              "      <td>0</td>\n",
              "      <td>40</td>\n",
              "      <td>United-States</td>\n",
              "      <td>0</td>\n",
              "    </tr>\n",
              "    <tr>\n",
              "      <th>6443</th>\n",
              "      <td>21</td>\n",
              "      <td>Private</td>\n",
              "      <td>Some-college</td>\n",
              "      <td>Never-married</td>\n",
              "      <td>Exec-managerial</td>\n",
              "      <td>Own-child</td>\n",
              "      <td>White</td>\n",
              "      <td>Male</td>\n",
              "      <td>0</td>\n",
              "      <td>0</td>\n",
              "      <td>40</td>\n",
              "      <td>United-States</td>\n",
              "      <td>0</td>\n",
              "    </tr>\n",
              "    <tr>\n",
              "      <th>14887</th>\n",
              "      <td>58</td>\n",
              "      <td>NaN</td>\n",
              "      <td>11th</td>\n",
              "      <td>Married-civ-spouse</td>\n",
              "      <td>NaN</td>\n",
              "      <td>Husband</td>\n",
              "      <td>White</td>\n",
              "      <td>Male</td>\n",
              "      <td>0</td>\n",
              "      <td>0</td>\n",
              "      <td>16</td>\n",
              "      <td>United-States</td>\n",
              "      <td>0</td>\n",
              "    </tr>\n",
              "    <tr>\n",
              "      <th>717</th>\n",
              "      <td>19</td>\n",
              "      <td>State-gov</td>\n",
              "      <td>HS-grad</td>\n",
              "      <td>Never-married</td>\n",
              "      <td>Tech-support</td>\n",
              "      <td>Own-child</td>\n",
              "      <td>White</td>\n",
              "      <td>Female</td>\n",
              "      <td>0</td>\n",
              "      <td>0</td>\n",
              "      <td>40</td>\n",
              "      <td>United-States</td>\n",
              "      <td>0</td>\n",
              "    </tr>\n",
              "  </tbody>\n",
              "</table>\n",
              "</div>"
            ],
            "text/plain": [
              "       age  workclass     education  ... hours-per-week native-country high-income\n",
              "2510    42    Private       HS-grad  ...             35  United-States           0\n",
              "1005    58    Private     Bachelors  ...             40  United-States           0\n",
              "6443    21    Private  Some-college  ...             40  United-States           0\n",
              "14887   58        NaN          11th  ...             16  United-States           0\n",
              "717     19  State-gov       HS-grad  ...             40  United-States           0\n",
              "\n",
              "[5 rows x 13 columns]"
            ]
          },
          "metadata": {
            "tags": []
          },
          "execution_count": 15
        }
      ]
    },
    {
      "cell_type": "markdown",
      "metadata": {
        "id": "GUePe66qkbTG",
        "colab_type": "text"
      },
      "source": [
        "---"
      ]
    },
    {
      "cell_type": "code",
      "metadata": {
        "id": "wfesCVD0kRjt",
        "colab_type": "code",
        "colab": {}
      },
      "source": [
        "# Do not change this block. They are needed for AIF360 APIs.\n",
        "privileged_groups = [{k: 1 for k in protected_attribute_names}]\n",
        "unprivileged_groups = [{k: 0 for k in protected_attribute_names}]"
      ],
      "execution_count": 0,
      "outputs": []
    },
    {
      "cell_type": "markdown",
      "metadata": {
        "id": "ng788voYkfSF",
        "colab_type": "text"
      },
      "source": [
        "## One-hot encode categorical features"
      ]
    },
    {
      "cell_type": "code",
      "metadata": {
        "id": "rruINz7hQp-A",
        "colab_type": "code",
        "colab": {}
      },
      "source": [
        "df = pd.get_dummies(df_scaled, columns=[col for col in categorical_columns if col not in protected_attribute_names], drop_first=True)"
      ],
      "execution_count": 0,
      "outputs": []
    },
    {
      "cell_type": "markdown",
      "metadata": {
        "id": "P2Gunf3B-zoO",
        "colab_type": "text"
      },
      "source": [
        "## Train Test split\n",
        "\n",
        "Split the data into train and test sets with 3:1 ratio. Stratification is done on the `high-income` label."
      ]
    },
    {
      "cell_type": "code",
      "metadata": {
        "id": "z-DFBDbcHLxo",
        "colab_type": "code",
        "colab": {}
      },
      "source": [
        "train_columns = [col for col in df.columns if col != label_column]"
      ],
      "execution_count": 0,
      "outputs": []
    },
    {
      "cell_type": "code",
      "metadata": {
        "id": "UXS2Pzebr8bY",
        "colab_type": "code",
        "colab": {}
      },
      "source": [
        "df_X_train, df_X_test, df_y_train, df_y_test = train_test_split(df[train_columns], df[label_column], test_size=0.25, random_state=1, stratify=df[label_column])"
      ],
      "execution_count": 0,
      "outputs": []
    },
    {
      "cell_type": "code",
      "metadata": {
        "id": "RDOnT90P_G1d",
        "colab_type": "code",
        "colab": {}
      },
      "source": [
        "df_train = df_X_train.copy()\n",
        "df_train[label_column] = df_y_train\n",
        "\n",
        "df_test = df_X_test.copy()\n",
        "df_test[label_column] = df_y_test"
      ],
      "execution_count": 0,
      "outputs": []
    },
    {
      "cell_type": "markdown",
      "metadata": {
        "id": "yLyjXVlMSX67",
        "colab_type": "text"
      },
      "source": [
        "## Transform pandas dataframes to AIF360's `StandardDataset` objects"
      ]
    },
    {
      "cell_type": "markdown",
      "metadata": {
        "id": "GBHbVBYayXtg",
        "colab_type": "text"
      },
      "source": [
        "Construct `StandardDataset` objects from pandas dataframes. Most functions and methods of AIF360 do not interact directly with pandas dataframes, rather they expect `Dataset` objects."
      ]
    },
    {
      "cell_type": "code",
      "metadata": {
        "id": "LreaDkd5_8AW",
        "colab_type": "code",
        "colab": {}
      },
      "source": [
        "dataset_full = StandardDataset(\n",
        "    df=df, label_name=label_column,\n",
        "    favorable_classes=favorable_classes,\n",
        "    protected_attribute_names=protected_attribute_names,\n",
        "    privileged_classes=privileged_classes,\n",
        "    categorical_features=[],\n",
        "    features_to_keep=[],\n",
        "    features_to_drop=[]\n",
        ")\n",
        "\n",
        "dataset_train = StandardDataset(\n",
        "    df=df_train, label_name=label_column,\n",
        "    favorable_classes=favorable_classes,\n",
        "    protected_attribute_names=protected_attribute_names,\n",
        "    privileged_classes=privileged_classes,\n",
        "    categorical_features=[],\n",
        "    features_to_keep=[],\n",
        "    features_to_drop=[]\n",
        ")\n",
        "\n",
        "dataset_test = StandardDataset(\n",
        "    df=df_test, label_name=label_column,\n",
        "    favorable_classes=favorable_classes,\n",
        "    protected_attribute_names=protected_attribute_names,\n",
        "    privileged_classes=privileged_classes,\n",
        "    categorical_features=[],\n",
        "    features_to_keep=[],\n",
        "    features_to_drop=[]\n",
        ")"
      ],
      "execution_count": 0,
      "outputs": []
    },
    {
      "cell_type": "markdown",
      "metadata": {
        "id": "znYaWCf2yiXX",
        "colab_type": "text"
      },
      "source": [
        "[`Metric`](https://aif360.readthedocs.io/en/latest/modules/metrics.html) classes of AIF360, such as `BinaryLabelDatasetMetric`, contain useful statistics for one or more `Dataset` objects."
      ]
    },
    {
      "cell_type": "code",
      "metadata": {
        "id": "SiK4JverwNAj",
        "colab_type": "code",
        "colab": {}
      },
      "source": [
        "dataset_full_stats = BinaryLabelDatasetMetric(dataset_full, privileged_groups=privileged_groups, unprivileged_groups=unprivileged_groups)\n",
        "dataset_train_stats = BinaryLabelDatasetMetric(dataset_train, privileged_groups=privileged_groups, unprivileged_groups=unprivileged_groups)\n",
        "dataset_test_stats = BinaryLabelDatasetMetric(dataset_test, privileged_groups=privileged_groups, unprivileged_groups=unprivileged_groups)"
      ],
      "execution_count": 0,
      "outputs": []
    },
    {
      "cell_type": "markdown",
      "metadata": {
        "id": "dKEVC-065GGB",
        "colab_type": "text"
      },
      "source": [
        "For example, we can check `statistical parity` using the `mean_difference()` method:"
      ]
    },
    {
      "cell_type": "code",
      "metadata": {
        "id": "IBDk9A2N5CTP",
        "colab_type": "code",
        "colab": {
          "base_uri": "https://localhost:8080/",
          "height": 34
        },
        "outputId": "8f24b433-52b5-4614-a808-02253c18885d"
      },
      "source": [
        "dataset_train_stats.statistical_parity_difference()"
      ],
      "execution_count": 23,
      "outputs": [
        {
          "output_type": "execute_result",
          "data": {
            "text/plain": [
              "-0.19257229463589692"
            ]
          },
          "metadata": {
            "tags": []
          },
          "execution_count": 23
        }
      ]
    },
    {
      "cell_type": "markdown",
      "metadata": {
        "id": "stERMhwu5qKN",
        "colab_type": "text"
      },
      "source": [
        "AIF360 also provides [`Explainer`](https://aif360.readthedocs.io/en/latest/modules/explainers.html) classes, which will print out human-readable descriptions for each metric/statistic."
      ]
    },
    {
      "cell_type": "code",
      "metadata": {
        "id": "5ncOpOvl_ea2",
        "colab_type": "code",
        "colab": {}
      },
      "source": [
        "explainer_full = MetricTextExplainer(dataset_full_stats)\n",
        "explainer_train = MetricTextExplainer(dataset_train_stats)\n",
        "explainer_test = MetricTextExplainer(dataset_test_stats)"
      ],
      "execution_count": 0,
      "outputs": []
    },
    {
      "cell_type": "code",
      "metadata": {
        "id": "TX4dyqBEBPvV",
        "colab_type": "code",
        "colab": {
          "base_uri": "https://localhost:8080/",
          "height": 54
        },
        "outputId": "54fb664e-da50-42c9-fef1-4a8ca74139f7"
      },
      "source": [
        "explainer_train.statistical_parity_difference()"
      ],
      "execution_count": 25,
      "outputs": [
        {
          "output_type": "execute_result",
          "data": {
            "text/plain": [
              "'Statistical parity difference (probability of favorable outcome for unprivileged instances - probability of favorable outcome for privileged instances): -0.19257229463589692'"
            ]
          },
          "metadata": {
            "tags": []
          },
          "execution_count": 25
        }
      ]
    },
    {
      "cell_type": "markdown",
      "metadata": {
        "id": "kTyD6DiDpTya",
        "colab_type": "text"
      },
      "source": [
        "## Preprocessing with reweighing\n",
        "\n",
        "[Reweighing](https://core.ac.uk/download/pdf/81728147.pdf) is a preprocessing technique that aims to assign a weight to each data point so that during model training, the training loss is amplified differently for each of them.\n",
        "\n",
        "Weights are assigned based on the discrepancy between expected occurrences and actual occurrences for each group. \n",
        "\n",
        "For example, assuming we have a dataset where 50% of the data points have positive labels, and 30% have `male` as `gender`, then the expected percentage of positive, male samples should be $0.3 \\times 0.5 = 0.15$, meaning 15%. If the actual percentage of such samples is 20%, then the weight for these data points will be $\\dfrac{0.15}{0.2} = 0.75$. These points are then given less importance by the machine learning model."
      ]
    },
    {
      "cell_type": "code",
      "metadata": {
        "id": "_u2-iIVZqWSJ",
        "colab_type": "code",
        "colab": {}
      },
      "source": [
        "rw = Reweighing(unprivileged_groups=unprivileged_groups, privileged_groups=privileged_groups)"
      ],
      "execution_count": 0,
      "outputs": []
    },
    {
      "cell_type": "markdown",
      "metadata": {
        "id": "WRQ5gbxoCyFQ",
        "colab_type": "text"
      },
      "source": [
        "### Exercise 1 - Determine sample weights"
      ]
    },
    {
      "cell_type": "markdown",
      "metadata": {
        "id": "IauoSlikC4DH",
        "colab_type": "text"
      },
      "source": [
        "#### Exercise 1.1 - Fitting\n",
        "\n",
        "**Hint**: Look at the [API doc for the `fit` method](https://aif360.readthedocs.io/en/latest/modules/preprocessing.html#aif360.algorithms.preprocessing.Reweighing.fit). Use it to fit the reweighing object `rw` on `dataset_train`."
      ]
    },
    {
      "cell_type": "code",
      "metadata": {
        "id": "-GIHV6wEq5rL",
        "colab_type": "code",
        "colab": {}
      },
      "source": [
        "# 1.1 - YOUR CODE HERE"
      ],
      "execution_count": 0,
      "outputs": []
    },
    {
      "cell_type": "markdown",
      "metadata": {
        "id": "mC0wrGqyErde",
        "colab_type": "text"
      },
      "source": [
        "#### Exercise 1.2 - Transforming\n",
        "\n",
        "Use the [`transform` method](https://aif360.readthedocs.io/en/latest/modules/preprocessing.html#aif360.algorithms.preprocessing.Reweighing.transform) of `rw` object to transform the training data, effectively creating a new dataset with weights information attached."
      ]
    },
    {
      "cell_type": "code",
      "metadata": {
        "id": "zqPdx4rgrAHA",
        "colab_type": "code",
        "colab": {}
      },
      "source": [
        "dataset_train_rw = # 1.2 - YOUR CODE HERE"
      ],
      "execution_count": 0,
      "outputs": []
    },
    {
      "cell_type": "markdown",
      "metadata": {
        "id": "boDfdhO9DVzh",
        "colab_type": "text"
      },
      "source": [
        "### Exercise 1 - Solution\n",
        "Click below for the solution."
      ]
    },
    {
      "cell_type": "markdown",
      "metadata": {
        "id": "6LUwfMAoDf6p",
        "colab_type": "text"
      },
      "source": [
        "```python\n",
        "# 1.1\n",
        "rw.fit(dataset_train)\n",
        "\n",
        "# 1.2\n",
        "dataset_train_rw = rw.transform(dataset_train)\n",
        "```"
      ]
    },
    {
      "cell_type": "markdown",
      "metadata": {
        "id": "wDs9U7gQDzdy",
        "colab_type": "text"
      },
      "source": [
        "### Train a classifier on original training data\n",
        "\n",
        "First we fit a Logistic Regression model on the training dataset."
      ]
    },
    {
      "cell_type": "code",
      "metadata": {
        "id": "Mdt3uofnrxxZ",
        "colab_type": "code",
        "colab": {}
      },
      "source": [
        "clf_lr_plain = LogisticRegression()\n",
        "\n",
        "clf_lr_plain.fit(dataset_train.features, dataset_train.labels)"
      ],
      "execution_count": 0,
      "outputs": []
    },
    {
      "cell_type": "markdown",
      "metadata": {
        "id": "ouZKRUgkFTpY",
        "colab_type": "text"
      },
      "source": [
        "Then we obtain the predictions in terms of probabilities."
      ]
    },
    {
      "cell_type": "code",
      "metadata": {
        "id": "kWT53m5DsByy",
        "colab_type": "code",
        "colab": {}
      },
      "source": [
        "y_test_plain_proba = clf_lr_plain.predict_proba(dataset_test.features)[:, favorable_classes[0]]"
      ],
      "execution_count": 0,
      "outputs": []
    },
    {
      "cell_type": "markdown",
      "metadata": {
        "id": "7RlE8WrhFcJm",
        "colab_type": "text"
      },
      "source": [
        "### Train a classifier on weighed training data"
      ]
    },
    {
      "cell_type": "markdown",
      "metadata": {
        "id": "146mbgHgFkzO",
        "colab_type": "text"
      },
      "source": [
        "We define another Logistic Regression model, and also extract the weights from `dataset_train_rw`."
      ]
    },
    {
      "cell_type": "code",
      "metadata": {
        "id": "jpeCbrTHFzvC",
        "colab_type": "code",
        "colab": {}
      },
      "source": [
        "clf_lr_rw = LogisticRegression()\n",
        "sample_weights = dataset_train_rw.instance_weights"
      ],
      "execution_count": 0,
      "outputs": []
    },
    {
      "cell_type": "markdown",
      "metadata": {
        "id": "WXukcUCiGWxr",
        "colab_type": "text"
      },
      "source": [
        "### Exercise 2 - Fit the Logistic Regression on training data but with sample weights\n",
        "\n",
        "Have a look at the [API for the `fit` method](https://scikit-learn.org/stable/modules/generated/sklearn.linear_model.LogisticRegression.html#sklearn.linear_model.LogisticRegression.fit) of Logistic Regression. Use it to train a Logistic Regression model while taking sample weights into account.\n",
        "\n",
        "**Hint**: The training dataset to be used is `dataset_train_rw`. Moreover, have a look at how we fit the plain classifier in the [Train a classifier on original training data](#scrollTo=wDs9U7gQDzdy&line=3&uniqifier=1) sub-section. Note that the `sample_weights` we defined in the [previous block](#scrollTo=jpeCbrTHFzvC) should now be used."
      ]
    },
    {
      "cell_type": "code",
      "metadata": {
        "id": "Ojg6KiyDsPsh",
        "colab_type": "code",
        "colab": {}
      },
      "source": [
        "clf_lr_rw.fit(# 2 - YOUR CODE HERE)"
      ],
      "execution_count": 0,
      "outputs": []
    },
    {
      "cell_type": "markdown",
      "metadata": {
        "id": "jGDhM09vG-rl",
        "colab_type": "text"
      },
      "source": [
        "### Exercise 2 - Solution\n",
        "Click below for the solution."
      ]
    },
    {
      "cell_type": "markdown",
      "metadata": {
        "id": "ZAIn05R8HK-F",
        "colab_type": "text"
      },
      "source": [
        "```python\n",
        "# 2\n",
        "clf_lr_rw.fit(dataset_train_rw.features, dataset_train_rw.labels, sample_weight=dataset_train_rw.instance_weights)\n",
        "```"
      ]
    },
    {
      "cell_type": "markdown",
      "metadata": {
        "id": "OwAtd1CiHOd9",
        "colab_type": "text"
      },
      "source": [
        "### Make predictions on test set using the trained classifier on data with reweighing"
      ]
    },
    {
      "cell_type": "code",
      "metadata": {
        "id": "qI62G6V6sPp4",
        "colab_type": "code",
        "colab": {}
      },
      "source": [
        "y_test_rw_proba = clf_lr_rw.predict_proba(dataset_test.features)[:, favorable_classes[0]]"
      ],
      "execution_count": 0,
      "outputs": []
    },
    {
      "cell_type": "markdown",
      "metadata": {
        "id": "K4e0KcJEHsLO",
        "colab_type": "text"
      },
      "source": [
        "### Collect classification and fairness metric\n",
        "\n",
        "Because our model outputs probabilities, we can experiment with different thresholds to use for classification, and observe how that affects model performance.\n",
        "\n",
        "[Balanced accuracy](https://scikit-learn.org/stable/modules/generated/sklearn.metrics.balanced_accuracy_score.html) is used as the classification metric in this demonstration. The fairness metrics collected are statistical parity difference and [equal opportunity diffference](https://arxiv.org/pdf/1610.02413.pdf)."
      ]
    },
    {
      "cell_type": "code",
      "metadata": {
        "id": "o5H_d29lvUsB",
        "colab_type": "code",
        "colab": {}
      },
      "source": [
        "classification_thresholds_list = np.linspace(0.01, 0.99, 100)\n",
        "balanced_accuracy_plain_list = []\n",
        "balanced_accuracy_rw_list = []\n",
        "\n",
        "average_odds_diff_plain = []\n",
        "average_odds_diff_rw = []\n",
        "\n",
        "statistical_parity_diff_plain = []\n",
        "statistical_parity_diff_rw = []\n",
        "\n",
        "for threshold in classification_thresholds_list:\n",
        "  # Plain model\n",
        "  y_test_plain = (y_test_plain_proba >= threshold).astype(float)\n",
        "  balanced_accuracy_plain_list.append(balanced_accuracy_score(dataset_test.labels, y_test_plain))\n",
        "  dataset_test_plain_model = dataset_test.copy(deepcopy=True)\n",
        "  dataset_test_plain_model.labels = y_test_plain[:, np.newaxis]\n",
        "  \n",
        "  cm_plain = ClassificationMetric(\n",
        "      dataset_test, \n",
        "      dataset_test_plain_model, \n",
        "      unprivileged_groups=unprivileged_groups, \n",
        "      privileged_groups=privileged_groups\n",
        "  )\n",
        "  average_odds_diff_plain.append(np.abs(cm_plain.equal_opportunity_difference()))\n",
        "  statistical_parity_diff_plain.append(np.abs(cm_plain.statistical_parity_difference()))\n",
        "  \n",
        "  \n",
        "  # Model on reweighed data\n",
        "  y_test_rw = (y_test_rw_proba >= threshold).astype(float)\n",
        "  dataset_test_rw_model = dataset_test.copy(deepcopy=True)\n",
        "  dataset_test_rw_model.labels = y_test_rw[:, np.newaxis]\n",
        "  balanced_accuracy_rw_list.append(balanced_accuracy_score(dataset_test.labels, y_test_rw))\n",
        "  cm_rw = ClassificationMetric(\n",
        "      dataset_test, \n",
        "      dataset_test_rw_model, \n",
        "      unprivileged_groups=unprivileged_groups, \n",
        "      privileged_groups=privileged_groups\n",
        "  )\n",
        "  average_odds_diff_rw.append(np.abs(cm_rw.equal_opportunity_difference()))\n",
        "  statistical_parity_diff_rw.append(np.abs(cm_rw.statistical_parity_difference()))"
      ],
      "execution_count": 0,
      "outputs": []
    },
    {
      "cell_type": "markdown",
      "metadata": {
        "id": "rnRQHWhzI3_l",
        "colab_type": "text"
      },
      "source": [
        "Next, we plot the classification and fairness metrics to compare with versus without reweighing."
      ]
    },
    {
      "cell_type": "code",
      "metadata": {
        "id": "1Z834NvnyG_h",
        "colab_type": "code",
        "colab": {}
      },
      "source": [
        "fig, ax1 = plt.subplots(figsize=(10,7))\n",
        "ax1.set_ylim(0, 1)\n",
        "ax1.plot(classification_thresholds_list, balanced_accuracy_plain_list, color='b')\n",
        "ax1.plot(classification_thresholds_list, balanced_accuracy_rw_list, color='b', linestyle='dashed')\n",
        "ax1.set_xlabel('Classification Thresholds', fontsize=16, fontweight='bold')\n",
        "ax1.set_ylabel('Balanced Accuracy', color='b', fontsize=16, fontweight='bold')\n",
        "ax1.xaxis.set_tick_params(labelsize=14)\n",
        "ax1.yaxis.set_tick_params(labelsize=14)\n",
        "\n",
        "\n",
        "ax2 = ax1.twinx()\n",
        "ax2.plot(classification_thresholds_list, average_odds_diff_plain, color='r')\n",
        "ax2.plot(classification_thresholds_list, average_odds_diff_rw, color='r', linestyle='dashed')\n",
        "ax2.set_ylabel('Equal opportunity Difference', color='r', fontsize=16, fontweight='bold')\n",
        "ax2.axvline(0.5, color='k', linestyle=':')\n",
        "ax2.yaxis.set_tick_params(labelsize=14)\n",
        "ax2.grid(True)\n",
        "\n",
        "fig.legend([\"Balanced Accuracy\", \"Balanced Accuracy - Reweighing\",\n",
        "            \"Equal opportunity diff.\", \"Equal opportunity diff. - Reweighing\"], \n",
        "           fontsize=16, loc='best')"
      ],
      "execution_count": 0,
      "outputs": []
    },
    {
      "cell_type": "markdown",
      "metadata": {
        "id": "4C0lyvDFNOg8",
        "colab_type": "text"
      },
      "source": [
        "The dotted vertical line on the plot above represents the typical classification threshold at 0.5. **What are your thoughts looking at the plot?**\n",
        "\n",
        "---\n",
        "\n",
        "Finally, we look also at statistical parity difference."
      ]
    },
    {
      "cell_type": "code",
      "metadata": {
        "id": "1hC25QYNMbXN",
        "colab_type": "code",
        "colab": {}
      },
      "source": [
        "fig, ax1 = plt.subplots(figsize=(10,7))\n",
        "ax1.set_ylim(0, 1)\n",
        "ax1.plot(classification_thresholds_list, balanced_accuracy_plain_list, color='b')\n",
        "ax1.plot(classification_thresholds_list, balanced_accuracy_rw_list, color='b', linestyle='dashed')\n",
        "ax1.set_xlabel('Classification Thresholds', fontsize=16, fontweight='bold')\n",
        "ax1.set_ylabel('Balanced Accuracy', color='b', fontsize=16, fontweight='bold')\n",
        "ax1.xaxis.set_tick_params(labelsize=14)\n",
        "ax1.yaxis.set_tick_params(labelsize=14)\n",
        "\n",
        "\n",
        "ax2 = ax1.twinx()\n",
        "ax2.plot(classification_thresholds_list, statistical_parity_diff_plain, color='r')\n",
        "ax2.plot(classification_thresholds_list, statistical_parity_diff_rw, color='r', linestyle='dashed')\n",
        "ax2.set_ylabel('Statistical parity Difference', color='r', fontsize=16, fontweight='bold')\n",
        "ax2.axvline(0.5, color='k', linestyle=':')\n",
        "ax2.yaxis.set_tick_params(labelsize=14)\n",
        "ax2.grid(True)\n",
        "\n",
        "fig.legend([\"Balanced Accuracy\", \"Balanced Accuracy - Reweighing\",\n",
        "            \"Statistical parity diff.\", \"Statistical parity diff. - Reweighing\"], \n",
        "           fontsize=16, loc='best')"
      ],
      "execution_count": 0,
      "outputs": []
    },
    {
      "cell_type": "markdown",
      "metadata": {
        "id": "pvkR9wtnNm89",
        "colab_type": "text"
      },
      "source": [
        "**Again, what are your observations from this plot?**"
      ]
    },
    {
      "cell_type": "markdown",
      "metadata": {
        "id": "IAcfxX5XNr-k",
        "colab_type": "text"
      },
      "source": [
        "### Exercise 3 - Try reweighing with another classifier\n",
        "\n",
        "Go back to the [Preprocessing with reweighing](#scrollTo=kTyD6DiDpTya) section and try to train another classifier. There is no solution for this open exercise 😉"
      ]
    },
    {
      "cell_type": "markdown",
      "metadata": {
        "id": "8Z5OJ8qdlzXL",
        "colab_type": "text"
      },
      "source": [
        "## Inprocessing with adversarial debiasing"
      ]
    },
    {
      "cell_type": "markdown",
      "metadata": {
        "id": "kvsXsnQy6OX9",
        "colab_type": "text"
      },
      "source": [
        "Inprocessing debiasing techniques modify the training process to take fairness into consideration. In this section, we explore [Adversarial Debiasing](https://arxiv.org/pdf/1801.07593.pdf).\n",
        "\n",
        "Adversarial debiasing trains two classifiers in parallel. An overview of the architecture is as follows:\n",
        "\n",
        "![abc](https://i.ibb.co/RDDRrNd/dscc2019-fairness-adversarial-debiasing-architecture.png)\n",
        "\n",
        "The predictor aims to maximize classification performance, while at the same time trying to confuse the adversary. The adversarial component gets the prediction output of the predictor, and some other inputs depending on the fairness metric used, to try to determine the value of the protected attribute. If the predictions do not contain any group-discrimination information, then the adversary should fail.\n",
        "\n",
        "For example, if `gender` is the protected attribute and if the adversarial component can guess correctly whether a certain data point has `male` or `female` as the feature value by using **only** the prediction output, the predictor has to go update its weights so that `gender` becomes less important in its decision process.\n",
        "\n",
        "The implementation of adversarial debiasing of AIF360 has `statistical parity difference` as the fairness metric."
      ]
    },
    {
      "cell_type": "markdown",
      "metadata": {
        "id": "Dlc7MKHhA_9d",
        "colab_type": "text"
      },
      "source": [
        "### Train a classifier without debiasing"
      ]
    },
    {
      "cell_type": "code",
      "metadata": {
        "id": "BrL3J3w_ukUE",
        "colab_type": "code",
        "colab": {}
      },
      "source": [
        "tf.reset_default_graph()\n",
        "sess = tf.Session()\n",
        "\n",
        "clf_plain = AdversarialDebiasing(\n",
        "    privileged_groups = privileged_groups,\n",
        "    unprivileged_groups = unprivileged_groups,\n",
        "    scope_name='plain_classifier',\n",
        "    debias=False,\n",
        "    sess=sess,\n",
        "    num_epochs=50,\n",
        "    seed=2\n",
        "    \n",
        ")"
      ],
      "execution_count": 0,
      "outputs": []
    },
    {
      "cell_type": "code",
      "metadata": {
        "id": "x3gI840uypYC",
        "colab_type": "code",
        "colab": {}
      },
      "source": [
        "clf_plain.fit(dataset_train)"
      ],
      "execution_count": 0,
      "outputs": []
    },
    {
      "cell_type": "code",
      "metadata": {
        "colab_type": "code",
        "id": "z0VQa6KkRZyP",
        "colab": {}
      },
      "source": [
        "# Get predictions\n",
        "dataset_test_plain_model = clf_plain.predict(dataset_test)\n",
        "\n",
        "# Construct Metric object\n",
        "plain_model_stats = ClassificationMetric(dataset_test, dataset_test_plain_model, unprivileged_groups=unprivileged_groups, privileged_groups=privileged_groups)\n",
        "\n",
        "# Construct Explainer object\n",
        "explainer_test_plain_model = MetricTextExplainer(plain_model_stats)"
      ],
      "execution_count": 0,
      "outputs": []
    },
    {
      "cell_type": "markdown",
      "metadata": {
        "id": "UcLWqOiEv3fn",
        "colab_type": "text"
      },
      "source": [
        "### Train a classifier with debiasing"
      ]
    },
    {
      "cell_type": "code",
      "metadata": {
        "id": "5dsxOYigDfui",
        "colab_type": "code",
        "colab": {}
      },
      "source": [
        "# Reset tensorflow graph\n",
        "tf.reset_default_graph()\n",
        "sess = tf.Session()"
      ],
      "execution_count": 0,
      "outputs": []
    },
    {
      "cell_type": "markdown",
      "metadata": {
        "id": "9uDtQ5CKDnKV",
        "colab_type": "text"
      },
      "source": [
        "### Exercise 4 - Train an adversarial debiasing classifier with debiasing turned on\n",
        "\n",
        "Refer to the [Train a classifier without debiasing](#scrollTo=Dlc7MKHhA_9d) section on how to construct an `AdversarialDebiasing` object, and for a reference on its methods."
      ]
    },
    {
      "cell_type": "markdown",
      "metadata": {
        "id": "b6QPg7-nF7wX",
        "colab_type": "text"
      },
      "source": [
        "#### 4.1 - Construct an `AdversarialDebiasing` object"
      ]
    },
    {
      "cell_type": "code",
      "metadata": {
        "id": "JIekxq7ev2oG",
        "colab_type": "code",
        "colab": {}
      },
      "source": [
        "clf_debias = AdversarialDebiasing(\n",
        "    # 4.1 - YOUR CODE HERE\n",
        ")"
      ],
      "execution_count": 0,
      "outputs": []
    },
    {
      "cell_type": "markdown",
      "metadata": {
        "id": "ZCPQS6RNHRmH",
        "colab_type": "text"
      },
      "source": [
        "#### 4.2 - Train the constructed adversarial classifier on the training set"
      ]
    },
    {
      "cell_type": "code",
      "metadata": {
        "id": "Ur1mUaq237_G",
        "colab_type": "code",
        "colab": {}
      },
      "source": [
        "clf_debias. # 4.2 - YOUR CODE HERE"
      ],
      "execution_count": 0,
      "outputs": []
    },
    {
      "cell_type": "markdown",
      "metadata": {
        "id": "a6nLVc4AHkwv",
        "colab_type": "text"
      },
      "source": [
        "#### 4.3 - Obtain predictions from the trained model"
      ]
    },
    {
      "cell_type": "code",
      "metadata": {
        "id": "ped4vCnB4knX",
        "colab_type": "code",
        "colab": {}
      },
      "source": [
        "dataset_test_debias_model = # 4.3 - YOUR CODE HERE"
      ],
      "execution_count": 0,
      "outputs": []
    },
    {
      "cell_type": "markdown",
      "metadata": {
        "id": "WjoI-oabHyow",
        "colab_type": "text"
      },
      "source": [
        "#### 4.4 - Build `Metric` and `Explainer` objects to analyze results"
      ]
    },
    {
      "cell_type": "code",
      "metadata": {
        "id": "N3Mk20A1H4tn",
        "colab_type": "code",
        "colab": {}
      },
      "source": [
        "# Construct Metric object\n",
        "debias_model_stats = # 4.4 - YOUR CODE HERE\n",
        "\n",
        "# Construct Explainer object\n",
        "explainer_test_debias_model = # 4.4 - YOUR CODE HERE"
      ],
      "execution_count": 0,
      "outputs": []
    },
    {
      "cell_type": "markdown",
      "metadata": {
        "id": "nzaXV1BqHFSR",
        "colab_type": "text"
      },
      "source": [
        "### Exercise 4 - Solution\n",
        "\n",
        "Click below for the solution."
      ]
    },
    {
      "cell_type": "markdown",
      "metadata": {
        "id": "CJgdmBsWISlW",
        "colab_type": "text"
      },
      "source": [
        "```python\n",
        "# 4.1\n",
        "clf_debias = AdversarialDebiasing(\n",
        "    privileged_groups = privileged_groups,\n",
        "    unprivileged_groups = unprivileged_groups,\n",
        "    scope_name='debias_classifier',\n",
        "    debias=True,\n",
        "    sess=sess,\n",
        "    num_epochs=50,\n",
        "    seed=1\n",
        ")\n",
        "\n",
        "# 4.2\n",
        "clf_debias.fit(dataset_train)\n",
        "\n",
        "# 4.3\n",
        "dataset_test_debias_model = clf_debias.predict(dataset_test)\n",
        "\n",
        "# 4.4 - Construct Metric object\n",
        "debias_model_stats = ClassificationMetric(dataset_test, dataset_test_debias_model, unprivileged_groups=unprivileged_groups, privileged_groups=privileged_groups)\n",
        "\n",
        "# 4.4 - Construct Explainer object\n",
        "explainer_test_debias_model = MetricTextExplainer(debias_model_stats)\n",
        "```"
      ]
    },
    {
      "cell_type": "markdown",
      "metadata": {
        "id": "j1maiDe-IItn",
        "colab_type": "text"
      },
      "source": [
        "### Assess classification performance, both with and without debiasing"
      ]
    },
    {
      "cell_type": "code",
      "metadata": {
        "id": "9-f401QZMQe2",
        "colab_type": "code",
        "colab": {}
      },
      "source": [
        "ba_plain = balanced_accuracy_score(dataset_test.labels, dataset_test_plain_model.labels)\n",
        "ba_debias = balanced_accuracy_score(dataset_test.labels, dataset_test_debias_model.labels)"
      ],
      "execution_count": 0,
      "outputs": []
    },
    {
      "cell_type": "markdown",
      "metadata": {
        "id": "zT6m6cpEMGwP",
        "colab_type": "text"
      },
      "source": [
        "### Inspect results"
      ]
    },
    {
      "cell_type": "code",
      "metadata": {
        "id": "DEUSig1i540W",
        "colab_type": "code",
        "colab": {}
      },
      "source": [
        "print(\"From a plain classifier without fairness debiasing:\")\n",
        "print(f\" - {explainer_test_plain_model.statistical_parity_difference()}\")\n",
        "print(f\" - {explainer_test_plain_model.equal_opportunity_difference()}\")\n",
        "print(f\" - Balanced Accuracy: {ba_plain}\")\n",
        "print('\\n')\n",
        "print(\"From a debiased classifier:\")\n",
        "print(f\" - {explainer_test_debias_model.statistical_parity_difference()}\")\n",
        "print(f\" - {explainer_test_debias_model.equal_opportunity_difference()}\")\n",
        "print(f\" - Balanced Accuracy: {ba_debias}\")"
      ],
      "execution_count": 0,
      "outputs": []
    },
    {
      "cell_type": "markdown",
      "metadata": {
        "id": "3KOHIW_EJtlu",
        "colab_type": "text"
      },
      "source": [
        "---\n",
        "The primary fairness metric `statistical parity difference` has been lowered thanks to `adversarial debiasing`. Other metrics, such as `equal opportunity difference`, may become worse depending on which privileged group was used. Classification performance, in the form of balanced accuracy, has also taken a hit when fairness constraint is injected into the training process.\n",
        "\n",
        "Key take-away is that the debiasing technique(s) should be selected according to the fairness metric we aim to optimize. How much of a loss in classification performance is acceptable should also be considered beforehand. There is no \"One size fits all\" algorithm when it comes to multi-objective optimization."
      ]
    },
    {
      "cell_type": "markdown",
      "metadata": {
        "id": "p8HRa8LKCN-6",
        "colab_type": "text"
      },
      "source": [
        "## Exercise 5 - Find another privileged group\n",
        "\n",
        "Go back to section [Specifying the privileged group](#scrollTo=WD8vP2fXjWVV), find and specify another feature where bias is present."
      ]
    },
    {
      "cell_type": "markdown",
      "metadata": {
        "id": "NWvB-WQWI-0v",
        "colab_type": "text"
      },
      "source": [
        "### Exercise 5 - Solution\n",
        "\n",
        "Click below for the solution."
      ]
    },
    {
      "cell_type": "markdown",
      "metadata": {
        "id": "isntJGPyJBX_",
        "colab_type": "text"
      },
      "source": [
        "Another potential feature where bias is present is `race`, and the privileged group is `White`. The code to define this group is as follows:\n",
        "```python\n",
        "protected_attribute_names = ['race']  \n",
        "privileged_classes = [['White']] \n",
        "```"
      ]
    },
    {
      "cell_type": "markdown",
      "metadata": {
        "id": "hFlMZrXPTYW0",
        "colab_type": "text"
      },
      "source": [
        "## Homework - postprocessing"
      ]
    },
    {
      "cell_type": "markdown",
      "metadata": {
        "id": "IiEAip8tTcEz",
        "colab_type": "text"
      },
      "source": [
        "Through this workshop, you have obtained hands-on exercises on pre- and inprocessing techniques to combat unfairness in data science workflow. There is still another family of technique, named postprocessing, which aims to modify the outputs of machine learning models for debiasing.\n",
        "\n",
        "AIF360 has support for a number of postprocessing algorithms. You can view them on [the package's API documentation site](https://aif360.readthedocs.io/en/latest/modules/postprocessing.html). Try to make use of them on any of your existing models."
      ]
    }
  ]
}